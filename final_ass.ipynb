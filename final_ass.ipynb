{
 "cells": [
  {
   "cell_type": "code",
   "execution_count": 40,
   "metadata": {},
   "outputs": [
    {
     "name": "stdout",
     "output_type": "stream",
     "text": [
      "1,5,2,7,8,2,4,None\n"
     ]
    }
   ],
   "source": [
    "class Link(object):\n",
    "    def __init__(self, val, tail):\n",
    "        self.val = val\n",
    "        self.tail = tail\n",
    "    def __repr__(self) -> str:\n",
    "        return f\"{self.val},{self.tail}\"\n",
    "\n",
    "\n",
    "def to_list(itr):\n",
    "    link = None\n",
    "    for val in reversed(itr):\n",
    "        link = Link(val, link)\n",
    "    return link\n",
    "\n",
    "x = to_list([1, 5, 2, 7, 8, 2, 4])\n",
    "\n",
    "print(x)\n",
    "\n",
    "def min_link(lst):\n",
    "    current_min = lst\n",
    "    while lst is not None:\n",
    "        if lst.val < current_min.val:\n",
    "            current_min = lst\n",
    "        lst = lst.tail\n",
    "    return current_min\n",
    "\n",
    "def swap_val(link1, link2):\n",
    "    link1.val, link2.val = link2.val, link1.val\n",
    "\n",
    "def selection_sort(lst):\n",
    "    x = lst\n",
    "    while x is not None:\n",
    "        smallest = min_link(x)\n",
    "        swap_val(x, smallest)\n",
    "        x = x.tail\n",
    "    return lst\n"
   ]
  },
  {
   "cell_type": "markdown",
   "metadata": {},
   "source": [
    "Exercise: Can you also implement selection sort for a persistent linked list structure, i.e., one where you do not modify the existing list but create a new one? What is the running time?\n",
    "\n",
    "No\n",
    "\n",
    "\n",
    "Technically you can just copy the list and then sort it using the algorithm above."
   ]
  },
  {
   "cell_type": "code",
   "execution_count": 4,
   "metadata": {},
   "outputs": [],
   "source": [
    "def swap(link):\n",
    "    link.val, link.tail.val = link.tail.val, link.val"
   ]
  },
  {
   "cell_type": "markdown",
   "metadata": {},
   "source": [
    "Exercise: Implement bubble sort for singly-linked lists. You need two loops, one that runs once through the list, and a second that bubbles up from the link we hold in the outer loop and to the end."
   ]
  },
  {
   "cell_type": "code",
   "execution_count": 50,
   "metadata": {},
   "outputs": [
    {
     "name": "stdout",
     "output_type": "stream",
     "text": [
      "1,5,2,7,8,2,4,None\n",
      "1,2,2,4,5,7,8,None\n"
     ]
    }
   ],
   "source": [
    "\n",
    "def mette_frederiksen_sort(slettet):\n",
    "    print(slettet)\n",
    "    swapped = True\n",
    "    while swapped:\n",
    "        sms = slettet\n",
    "        swapped = False\n",
    "        while sms.tail is not None:\n",
    "            if sms.val > sms.tail.val:\n",
    "                swap(sms)\n",
    "                swapped = True            \n",
    "            sms = sms.tail\n",
    "    return sms\n",
    "\n",
    "x = to_list([1, 5, 2, 7, 8, 2, 4])\n",
    "\n",
    "mette_frederiksen_sort(x)\n",
    "\n",
    "print(x)"
   ]
  },
  {
   "cell_type": "code",
   "execution_count": 62,
   "metadata": {},
   "outputs": [],
   "source": [
    "class Link(object):\n",
    "    def __init__(self, val, prev, next):\n",
    "        self.val = val\n",
    "        self.prev = prev\n",
    "        self.next = next\n",
    "    def __str__(self) -> str:\n",
    "        x = []\n",
    "        link = self\n",
    "        while link:\n",
    "            x.append(link.val)\n",
    "            link = link.next\n",
    "        return str(x)\n",
    "\n",
    "\n",
    "def to_list(itr):\n",
    "    link = None\n",
    "    for val in reversed(itr):\n",
    "        link = Link(val, None, link)\n",
    "        if link.next is not None:\n",
    "            link.next.prev = link\n",
    "    return link"
   ]
  },
  {
   "cell_type": "code",
   "execution_count": 65,
   "metadata": {},
   "outputs": [
    {
     "name": "stdout",
     "output_type": "stream",
     "text": [
      "[1, 2, 2, 4, 5, 7, 8]\n"
     ]
    }
   ],
   "source": [
    "def swap_down(x):\n",
    "    while x.prev and x.val < x.prev.val:\n",
    "        swap_val(x, x.prev)\n",
    "        x = x.prev\n",
    "    return x\n",
    "    # Move the value in x towards the front of the list\n",
    "    # until it finds a value smaller than itself\n",
    "\n",
    "def insertion_sort(x):\n",
    "    link = x\n",
    "    while link is not None:\n",
    "        swap_down(link)\n",
    "        link = link.next\n",
    "    return x   \n",
    "\n",
    "x = to_list([1, 5, 2, 7, 8, 2, 4])\n",
    "\n",
    "insertion_sort(x)\n",
    "\n",
    "print(x)"
   ]
  },
  {
   "cell_type": "markdown",
   "metadata": {},
   "source": [
    "**I am penis man**"
   ]
  },
  {
   "cell_type": "code",
   "execution_count": 55,
   "metadata": {},
   "outputs": [
    {
     "name": "stdout",
     "output_type": "stream",
     "text": [
      "[1, 2, 5, 2, 5, 9, 3]\n",
      "1\n",
      "5\n",
      "9\n",
      "5\n",
      "5\n",
      "[1, 2, 2, 3, 5, 5, 9]\n"
     ]
    }
   ],
   "source": [
    "class Link(object):\n",
    "    def __init__(self, val, prev, next):\n",
    "        self.val = val\n",
    "        self.prev = prev\n",
    "        self.next = next\n",
    "\n",
    "class List(object):\n",
    "    def __init__(self, x):\n",
    "        self.dummy = Link(None, None, None)\n",
    "        self.dummy.next = self.dummy\n",
    "        self.dummy.prev = self.dummy\n",
    "\n",
    "        for val in reversed(x):\n",
    "            new_link = Link(val, self.dummy, self.dummy.next)\n",
    "            new_link.prev.next = new_link\n",
    "            new_link.next.prev = new_link\n",
    "    def __repr__(self) -> str:\n",
    "        out = []\n",
    "        iterrrr = self.dummy.next\n",
    "        while iterrrr.val:\n",
    "            out.append(iterrrr.val)\n",
    "            iterrrr = iterrrr.next\n",
    "        return str(out)\n",
    "\n",
    "\n",
    "def swap_link(link):\n",
    "    if link.next.next is not None:\n",
    "        link.next.next.prev = link\n",
    "    link.prev.next, link.next.prev = link.next, link.prev #makes sure that the two neighboring links point at each other.\n",
    "    link.prev = link.next #Makes sure that link points back at the link previously in front of it.\n",
    "    link.next = link.next.next #Updates the link to point at the correct next value\n",
    "    link.prev.next = link #because link is now next in relation to its prev, this makes sure that the old link.next now points forward at link.\n",
    "\n",
    "\n",
    "def swap_down_2(x):\n",
    "\n",
    "    while x.prev.val and x.val < x.prev.val:\n",
    "        print(x.prev.val)\n",
    "        swap_link(x.prev)\n",
    "    return x\n",
    "    # Move the value in x towards the front of the list\n",
    "    # until it finds a value smaller than itself\n",
    " \n",
    "\n",
    "\n",
    "def insertion_sort(x):\n",
    "    link = x.dummy.next\n",
    "    print(link.val)\n",
    "    while link.val is not None:\n",
    "        swap_down_2(link)\n",
    "        link = link.next\n",
    "    return x   \n",
    "\n",
    "x = List([1, 2, 5, 2, 5, 9, 3])\n",
    "\n",
    "print(x)\n",
    "\n",
    "insertion_sort(x)\n",
    "\n",
    "print(x)"
   ]
  }
 ],
 "metadata": {
  "interpreter": {
   "hash": "6b4edfe8f5b63aad8d5fd22163b1b34a2a814ee0f50c40673c64e6089f508cae"
  },
  "kernelspec": {
   "display_name": "Python 3.8.8 64-bit ('base': conda)",
   "language": "python",
   "name": "python3"
  },
  "language_info": {
   "codemirror_mode": {
    "name": "ipython",
    "version": 3
   },
   "file_extension": ".py",
   "mimetype": "text/x-python",
   "name": "python",
   "nbconvert_exporter": "python",
   "pygments_lexer": "ipython3",
   "version": "3.8.8"
  },
  "orig_nbformat": 4
 },
 "nbformat": 4,
 "nbformat_minor": 2
}
